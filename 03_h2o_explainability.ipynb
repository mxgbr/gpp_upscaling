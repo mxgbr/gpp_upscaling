{
 "cells": [
  {
   "cell_type": "markdown",
   "metadata": {},
   "source": [
    "# H2O model interpretation\n",
    "Needs to be executed with \n",
    "srun --pty -A fc_keenan -p savio -t 00:10:00 papermill 03_h2o_explainability.ipynb 03_h2o_explainability_out.ipynb"
   ]
  },
  {
   "cell_type": "code",
   "execution_count": 1,
   "metadata": {},
   "outputs": [],
   "source": [
    "import pandas as pd\n",
    "import seaborn as sns\n",
    "import matplotlib.pyplot as plt\n",
    "import h2o\n",
    "from models.h2o import H2o\n",
    "import os\n",
    "import glob\n",
    "from modules.analysis import *\n",
    "import numpy as np"
   ]
  },
  {
   "cell_type": "code",
   "execution_count": null,
   "metadata": {},
   "outputs": [],
   "source": [
    "# loads model paths and exp_ids\n",
    "reps = list(range(0, 30))\n",
    "\n",
    "exp_id = '2022110113578590'\n",
    "\n",
    "models = []\n",
    "exp_paths = []\n",
    "h2o.init()\n",
    "\n",
    "for rep in reps:\n",
    "    exp_path = os.path.join('experiments', exp_id + '_' + str(rep))\n",
    "    exp_paths.append(exp_path)\n",
    "    print(exp_path)\n",
    "    models.append(H2o.load(os.path.join(exp_path, 'fold_0'), init=False))"
   ]
  },
  {
   "cell_type": "code",
   "execution_count": null,
   "metadata": {},
   "outputs": [],
   "source": [
    "# load base models\n",
    "df_models = []\n",
    "# loop over 30 bootrap models\n",
    "for idx, bootstrap_model in enumerate(models):\n",
    "    print(idx)\n",
    "    path = glob.glob(os.path.join(exp_paths[idx], 'fold_0', '*_AutoML_*'))[0]\n",
    "    \n",
    "    # loop over base models\n",
    "    base_models = []\n",
    "    base_models_imp = []\n",
    "    if 'base_models' in bootstrap_model.actual_params:\n",
    "        \n",
    "        # get metalearner\n",
    "        base_model_imp = bootstrap_model.metalearner().varimp(use_pandas=True)\n",
    "        base_model_imp = base_model_imp[['variable', 'percentage']]\n",
    "        base_model_imp.columns = ['base_model', 'importance']\n",
    "        base_models.append(base_model_imp)\n",
    "\n",
    "    else:\n",
    "        base_models.append(pd.DataFrame({'base_model': [path.split('/')[-1]], 'importance': [1]}))\n",
    "        \n",
    "    df_base_models = pd.concat(base_models)\n",
    "    df_base_models['rep'] = reps[idx]\n",
    "    df_base_models['path'] = path\n",
    "    df_models.append(df_base_models)\n",
    "    \n",
    "df_models = pd.concat(df_models, ignore_index=True)\n",
    "df_models['base_model_type'] = df_models['base_model'].str.split('_').str[0]\n",
    "df_models['model_type'] = df_models['path'].str.split('/').str[-1].str.split('_').str[0:2].str.join(' ')\n",
    "df_models"
   ]
  },
  {
   "cell_type": "code",
   "execution_count": null,
   "metadata": {},
   "outputs": [],
   "source": [
    "# create saving path\n",
    "out_path = os.path.join('analysis/benchmark/', exp_id)\n",
    "if not os.path.isdir(out_path):\n",
    "    os.makedirs(out_path)"
   ]
  },
  {
   "cell_type": "code",
   "execution_count": null,
   "metadata": {},
   "outputs": [],
   "source": [
    "# plot model count matrix\n",
    "cmat = df_models[['rep', 'base_model_type']].groupby('rep').value_counts().unstack(level=0, fill_value=0)\n",
    "#cmat = cmat * 100 / cmat.sum()\n",
    "\n",
    "fig = plt.figure(figsize=(10, 5))\n",
    "ax = plt.axes()\n",
    "\n",
    "cmat = cmat.where(cmat > 0, np.nan)\n",
    "\n",
    "plt.imshow(cmat, cmap=cmap_gpp_1)\n",
    "plt.yticks(np.arange(0, len(cmat.index), 1), cmat.index)\n",
    "plt.xticks(np.arange(0, len(cmat.columns), 1), cmat.columns+1)\n",
    "plt.xlabel('Bootstrap')\n",
    "plt.ylabel('Model Family')\n",
    "\n",
    "cbar = plt.colorbar(fraction=0.047*cmat.shape[0]/cmat.shape[1])\n",
    "cbar.set_label('Number of models')\n",
    "\n",
    "plt.tight_layout()\n",
    "plt.savefig(os.path.join('analysis/benchmark', exp_id, 'base_model_count.pdf'))"
   ]
  },
  {
   "cell_type": "code",
   "execution_count": null,
   "metadata": {},
   "outputs": [],
   "source": [
    "# plot model importance bar chart\n",
    "model_imp = df_models.copy()\n",
    "model_imp['rep'] = model_imp.rep + 1\n",
    "model_imp = model_imp.groupby(['rep', 'base_model_type'])['importance'].sum().reset_index().fillna(0)\n",
    "\n",
    "colors = plt.cm.Paired(np.linspace(0, 1, 6))\n",
    "\n",
    "model_imp.set_index(['rep', 'base_model_type']).unstack('base_model_type').droplevel(0, axis=1).plot(kind='bar', stacked=True, width=1)\n",
    "plt.legend(bbox_to_anchor=(1, 0.5), loc='center left', ncol=1, title='Model Family')\n",
    "plt.ylim(0, 1)\n",
    "plt.xlabel('Bootstrap')\n",
    "plt.ylabel('Relative Importance')\n",
    "plt.tight_layout()\n",
    "plt.savefig(os.path.join('analysis/benchmark', exp_id, 'base_model_importance_bootstraps.pdf'))"
   ]
  },
  {
   "cell_type": "code",
   "execution_count": null,
   "metadata": {},
   "outputs": [],
   "source": [
    "model_imp.set_index(['rep', 'base_model_type']).unstack('base_model_type')"
   ]
  },
  {
   "cell_type": "code",
   "execution_count": null,
   "metadata": {},
   "outputs": [],
   "source": [
    "# create saving path\n",
    "out_path = os.path.join('analysis/benchmark/', exp_id)\n",
    "if not os.path.isdir(out_path):\n",
    "    os.makedirs(out_path)\n",
    "\n",
    "sns.boxplot(data=model_imp, x='base_model_type', y='importance', color=sns.color_palette()[0])\n",
    "plt.xlabel('Base Model Type')\n",
    "plt.ylabel('Relative Importance')\n",
    "plt.tight_layout()\n",
    "plt.savefig(os.path.join('analysis/benchmark', exp_id, 'base_model_importance.pdf'))"
   ]
  }
 ],
 "metadata": {
  "kernelspec": {
   "display_name": "_h2o",
   "language": "python",
   "name": "_h2o"
  },
  "language_info": {
   "codemirror_mode": {
    "name": "ipython",
    "version": 3
   },
   "file_extension": ".py",
   "mimetype": "text/x-python",
   "name": "python",
   "nbconvert_exporter": "python",
   "pygments_lexer": "ipython3",
   "version": "3.8.13"
  }
 },
 "nbformat": 4,
 "nbformat_minor": 2
}
