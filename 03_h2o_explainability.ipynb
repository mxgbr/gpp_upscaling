{
 "cells": [
  {
   "cell_type": "markdown",
   "metadata": {},
   "source": [
    "# H2O model interpretation\n",
    "Needs to be executed with papermill"
   ]
  },
  {
   "cell_type": "code",
   "execution_count": 1,
   "metadata": {},
   "outputs": [],
   "source": [
    "import pandas as pd\n",
    "import seaborn as sns\n",
    "import h2o\n",
    "from models.h2o import H2o\n",
    "import os\n",
    "import glob"
   ]
  },
  {
   "cell_type": "code",
   "execution_count": null,
   "metadata": {},
   "outputs": [],
   "source": [
    "# loads model paths and exp_ids\n",
    "reps = list(range(0, 3))\n",
    "\n",
    "exp_id = '2022102713559613'\n",
    "\n",
    "models = []\n",
    "exp_paths = []\n",
    "for rep in reps:\n",
    "    exp_path = os.path.join('experiments', exp_id + '_' + str(rep))\n",
    "    exp_paths.append(exp_path)\n",
    "    models.append(H2o.load(os.path.join(exp_path, 'fold_0')))"
   ]
  },
  {
   "cell_type": "code",
   "execution_count": null,
   "metadata": {},
   "outputs": [],
   "source": [
    "# load base models\n",
    "path = 'output'\n",
    "\n",
    "df_models = []\n",
    "# loop over 30 bootrap models\n",
    "for idx, bootstrap_model in enumerate(models):\n",
    "    \n",
    "    # loop over base models\n",
    "    base_models = []\n",
    "    base_models_imp = []\n",
    "    if 'base_models' in bootstrap_model.actual_params:\n",
    "        \n",
    "        # get metalearner\n",
    "        metalearner = h2o.get_model(bootstrap_model.metalearner()['name']).varimp()\n",
    "        metalearner = pd.DataFrame(metalearner, columns=['model', 'relimp', 'scaimp', 'perc']).set_index('model')\n",
    "        \n",
    "        for base_model in bootstrap_model.actual_params['base_models']:\n",
    "            base_models.append(base_model['name'])\n",
    "            base_models_imp.append(metalearner.loc[base_model['name'], 'perc'])\n",
    "    else:\n",
    "        base_models.append(bootstrap_model_name.split('/')[1])\n",
    "        base_models_imp.append(1)\n",
    "            \n",
    "    df_base_models = pd.DataFrame(base_models, columns=['base_model'])\n",
    "    df_base_models['rep'] = reps[idx]\n",
    "    df_base_models['path'] = glob.glob(os.path.join(exp_paths[idx], 'fold_0', '*_AutoML_*'))[0]\n",
    "    df_base_models['importance'] = base_models_imp\n",
    "    df_models.append(df_base_models)\n",
    "    \n",
    "df_models = pd.concat(df_models, ignore_index=True)\n",
    "df_models['base_model_type'] = df_models['base_model'].str.split('_').str[0]\n",
    "df_models['model_type'] = df_models['path'].str.split('/').str[-1].str.split('_').str[0:2].str.join(' ')\n",
    "df_models"
   ]
  }
 ],
 "metadata": {
  "kernelspec": {
   "display_name": "_h2o",
   "language": "python",
   "name": "_h2o"
  },
  "language_info": {
   "codemirror_mode": {
    "name": "ipython",
    "version": 3
   },
   "file_extension": ".py",
   "mimetype": "text/x-python",
   "name": "python",
   "nbconvert_exporter": "python",
   "pygments_lexer": "ipython3",
   "version": "3.8.13"
  }
 },
 "nbformat": 4,
 "nbformat_minor": 2
}
